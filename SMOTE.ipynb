{
  "cells": [
    {
      "cell_type": "markdown",
      "metadata": {
        "id": "view-in-github",
        "colab_type": "text"
      },
      "source": [
        "<a href=\"https://colab.research.google.com/github/Mayan-Ryan/ECG-Arrythmia/blob/main/SMOTE.ipynb\" target=\"_parent\"><img src=\"https://colab.research.google.com/assets/colab-badge.svg\" alt=\"Open In Colab\"/></a>"
      ]
    },
    {
      "cell_type": "markdown",
      "metadata": {
        "id": "_rKlfC12ep4h"
      },
      "source": [
        "## SVM Model"
      ]
    },
    {
      "cell_type": "code",
      "execution_count": null,
      "metadata": {
        "id": "MtSoGqEDe1kM"
      },
      "outputs": [],
      "source": [
        "import tensorflow as tf\n",
        "import seaborn as sns\n",
        "from sklearn.svm import SVC\n",
        "from sklearn import metrics\n",
        "from sklearn.metrics import confusion_matrix\n",
        "from tensorflow.keras.utils import to_categorical\n",
        "from sklearn.utils import resample\n",
        "from sklearn.model_selection import train_test_split"
      ]
    },
    {
      "cell_type": "code",
      "execution_count": 83,
      "metadata": {
        "id": "1D-prwcWevQX"
      },
      "outputs": [],
      "source": [
        "X_train_svm,X_test_svm,y_train_svm, y_test_svm = train_test_split(X,y, test_size=0.2)"
      ]
    },
    {
      "cell_type": "code",
      "execution_count": null,
      "metadata": {
        "id": "zl2I4r_UfXkD"
      },
      "outputs": [],
      "source": [
        "classifier = SVC(kernel='linear')\n",
        "classifier.fit(X_train_svm, y_train_svm)\n",
        "y_pred_svm = classifier.predict(X_test_svm)"
      ]
    },
    {
      "cell_type": "code",
      "execution_count": null,
      "metadata": {
        "id": "8mP7RUuIfgy0",
        "colab": {
          "base_uri": "https://localhost:8080/"
        },
        "outputId": "f72398ff-8720-4147-b95d-e3bbb88b7c66"
      },
      "outputs": [
        {
          "output_type": "stream",
          "name": "stdout",
          "text": [
            "Accuracy: 1.0\n",
            "Recall Score: 1.0\n",
            "Precision: 1.0\n",
            "F1 Score: 1.0\n"
          ]
        }
      ],
      "source": [
        "print(\"Accuracy:\",metrics.accuracy_score(y_test_svm, y_pred_svm))\n",
        "print(\"Recall Score:\",metrics.recall_score(y_test_svm,y_pred_svm, average='macro'))\n",
        "print(\"Precision:\",metrics.precision_score(y_test_svm,y_pred_svm,average='macro'))\n",
        "print(\"F1 Score:\",metrics.f1_score(y_test_svm,y_pred_svm,average='macro'))"
      ]
    },
    {
      "cell_type": "code",
      "source": [
        "cm = confusion_matrix(y_test_svm, y_pred_svm)\n",
        "sns.heatmap(cm/np.sum(cm), annot=True,fmt='.2%', cmap='PuBu_r')\n",
        "plt.savefig('Confusion_matrix.png')"
      ],
      "metadata": {
        "colab": {
          "base_uri": "https://localhost:8080/",
          "height": 265
        },
        "id": "1CJwkjv3wgz7",
        "outputId": "7fac8b38-1b2a-4bc5-f32a-e648cebbe003"
      },
      "execution_count": null,
      "outputs": [
        {
          "output_type": "display_data",
          "data": {
            "text/plain": [
              "<Figure size 432x288 with 2 Axes>"
            ],
            "image/png": "[encoded data removed]"
          },
          "metadata": {
            "needs_background": "light"
          }
        }
      ]
    },
    {
      "cell_type": "markdown",
      "source": [
        "## Logistic Regression Model"
      ],
      "metadata": {
        "id": "ZqL21ERfwn5x"
      }
    },
    {
      "cell_type": "code",
      "source": [
        "from sklearn import preprocessing\n",
        "from sklearn.linear_model import LogisticRegression\n",
        "from sklearn.model_selection import train_test_split\n",
        "from sklearn.feature_selection import RFE\n",
        "from sklearn.metrics import confusion_matrix\n",
        "from sklearn.metrics import classification_report\n",
        "from sklearn.metrics import roc_auc_score\n",
        "from sklearn.metrics import roc_curve\n",
        "plt.rc(\"font\", size=14)\n",
        "sns.set(style=\"white\")\n",
        "sns.set(style=\"whitegrid\", color_codes=True)"
      ],
      "metadata": {
        "id": "rwSOzkZKwmhR"
      },
      "execution_count": null,
      "outputs": []
    },
    {
      "cell_type": "code",
      "source": [
        "# Identify features using Recursive Feature Elimination(RFE)\n",
        "X_train_df= pd.DataFrame(X_train)\n",
        "y_train_df= pd.DataFrame(y_train)\n",
        "logreg = LogisticRegression(max_iter=1000)\n",
        "rfe = RFE(logreg, step= 20)\n",
        "rfe = rfe.fit(X_train_df, y_train_df.values.ravel())\n",
        "print(rfe.support_)\n",
        "print(rfe.ranking_)"
      ],
      "metadata": {
        "colab": {
          "base_uri": "https://localhost:8080/"
        },
        "id": "vvRBuszjxsJk",
        "outputId": "3b36e486-1802-46a6-9e9a-a2e25c2a4717"
      },
      "execution_count": null,
      "outputs": [
        {
          "output_type": "stream",
          "name": "stdout",
          "text": [
            "[ True  True  True  True  True  True  True False  True  True  True False\n",
            "  True  True  True False False  True  True  True  True  True  True False\n",
            "  True  True False False False  True  True False False  True  True False\n",
            "  True False  True  True False False  True False False  True False False\n",
            " False False  True  True False  True False  True False  True  True False\n",
            "  True  True  True False False  True False  True  True  True  True  True\n",
            " False False  True  True  True  True  True False  True  True False False\n",
            "  True  True False  True  True  True  True  True  True False False False\n",
            "  True False  True  True False  True False False False  True False  True\n",
            " False False False  True  True  True  True  True  True  True  True  True\n",
            " False  True False  True False False  True False False False False  True\n",
            " False  True False False False  True False  True False False False  True\n",
            "  True False  True False  True False False False False False False False\n",
            " False  True  True False  True False False  True False  True  True False\n",
            "  True  True False  True False  True False False  True  True False  True\n",
            "  True  True  True False False  True  True  True False  True  True False\n",
            "  True  True False False  True  True False  True False  True False  True\n",
            "  True False False  True False False  True False False False False False\n",
            " False  True False False  True False False False False False False False\n",
            " False False False False False False False False False  True  True False\n",
            " False False  True False False  True False False False  True False False\n",
            " False False False  True False  True  True  True  True False  True False\n",
            " False  True False  True False False False  True False False False False\n",
            " False  True False False  True False False False False False False  True\n",
            " False  True  True False False False  True False  True  True False False\n",
            "  True  True False False  True  True False False  True  True False  True\n",
            "  True False False  True  True False  True  True  True  True  True  True\n",
            " False  True  True False  True  True  True  True False  True  True  True\n",
            " False  True  True False  True  True False  True False  True  True False\n",
            " False  True  True False  True  True False False  True False False  True\n",
            "  True]\n",
            "[ 1  1  1  1  1  1  1  9  1  1  1  4  1  1  1  6  5  1  1  1  1  1  1 11\n",
            "  1  1 11  3 11  1  1  3  7  1  1  3  1 11  1  1  7  5  1  4 10  1  9  5\n",
            "  9  6  1  1  9  1  8  1  7  1  1  6  1  1  1  7  9  1 10  1  1  1  1  1\n",
            "  8  3  1  1  1  1  1  8  1  1  6  3  1  1  6  1  1  1  1  1  1  9  4 11\n",
            "  1 11  1  1 10  1  4 10  3  1  7  1  7  9  3  1  1  1  1  1  1  1  1  1\n",
            "  5  1 10  1  8  4  1 10  3 10  8  1  4  1 11  3  5  1  7  1  9  3 10  1\n",
            "  1  3  1  4  1  5  3  6  2  5  8  8  4  1  1  5  1  9  3  1 11  1  1  8\n",
            "  1  1  4  1  4  1  9  7  1  1  3  1  1  1  1  5  8  1  1  1  8  1  1  4\n",
            "  1  1  4  8  1  1  3  1  7  1  7  1  1  6  3  1  8  6  1  8  4  7  7  8\n",
            "  5  1  6  9  1  5  7 11  4  4  3  4  9 10 10 10  5  9 11  6  7  1  1  5\n",
            "  9 11  1  6 10  1  6  6 10  1 10 11  8  9  7  1  9  1  1  1  1  9  1  4\n",
            " 11  1 11  1 10  8  4  1  7  3  6 11  6  1  4  7  1  8  5 10 10  6  5  1\n",
            "  6  1  1  7 11 11  1 10  1  1 10  6  1  1  8  7  1  1  9  6  1  1  3  1\n",
            "  1  5  9  1  1 11  1  1  1  1  1  1  5  1  1  5  1  1  1  1  8  1  1  1\n",
            " 11  1  1  5  1  1  6  1  3  1  1  9  8  1  1  5  1  1  7 11  1  4 10  1\n",
            "  1]\n"
          ]
        }
      ]
    },
    {
      "cell_type": "code",
      "source": [
        "X_train_LR, X_test_LR, y_train_LR, y_test_LR = train_test_split(X_train_df, y_train_df, test_size=0.3, random_state=0)\n",
        "logreg = LogisticRegression(max_iter=1000)\n",
        "logreg.fit(X_train_LR, y_train_LR)"
      ],
      "metadata": {
        "colab": {
          "base_uri": "https://localhost:8080/"
        },
        "id": "C8azS3UT7WBZ",
        "outputId": "d7f93363-1095-4551-fff0-8bacddaf2826"
      },
      "execution_count": null,
      "outputs": [
        {
          "output_type": "stream",
          "name": "stderr",
          "text": [
            "/usr/local/lib/python3.7/dist-packages/sklearn/utils/validation.py:993: DataConversionWarning: A column-vector y was passed when a 1d array was expected. Please change the shape of y to (n_samples, ), for example using ravel().\n",
            "  y = column_or_1d(y, warn=True)\n"
          ]
        },
        {
          "output_type": "execute_result",
          "data": {
            "text/plain": [
              "LogisticRegression(max_iter=1000)"
            ]
          },
          "metadata": {},
          "execution_count": 53
        }
      ]
    },
    {
      "cell_type": "code",
      "source": [
        "y_pred_LR = logreg.predict(X_test_LR)\n",
        "print('Accuracy of logistic regression classifier on test set: {:.2f}'.format(logreg.score(X_test_LR, y_test_LR)))"
      ],
      "metadata": {
        "colab": {
          "base_uri": "https://localhost:8080/"
        },
        "id": "TXzEFjEI80RT",
        "outputId": "6be1cbe6-ab41-4d20-d7cd-ffa05c6f0526"
      },
      "execution_count": null,
      "outputs": [
        {
          "output_type": "stream",
          "name": "stdout",
          "text": [
            "Accuracy of logistic regression classifier on test set: 1.00\n"
          ]
        }
      ]
    },
    {
      "cell_type": "code",
      "source": [
        "cm = confusion_matrix(y_test_LR, y_pred_LR)\n",
        "sns.heatmap(cm/np.sum(cm), annot=True,fmt='.2%')\n",
        "plt.savefig('Confusion_matrix.png')"
      ],
      "metadata": {
        "colab": {
          "base_uri": "https://localhost:8080/",
          "height": 268
        },
        "id": "fJY7xIi49m9X",
        "outputId": "65ee7d55-fb5e-44e0-cee7-3d5daecc7787"
      },
      "execution_count": null,
      "outputs": [
        {
          "output_type": "display_data",
          "data": {
            "text/plain": [
              "<Figure size 432x288 with 2 Axes>"
            ],
            "image/png": "[encoded data removed]"
          },
          "metadata": {}
        }
      ]
    },
    {
      "cell_type": "code",
      "source": [
        "print(classification_report(y_test_LR, y_pred_LR))"
      ],
      "metadata": {
        "colab": {
          "base_uri": "https://localhost:8080/"
        },
        "id": "K53Ju03u894p",
        "outputId": "fb945e46-5498-4830-a837-a43a255ff604"
      },
      "execution_count": null,
      "outputs": [
        {
          "output_type": "stream",
          "name": "stdout",
          "text": [
            "              precision    recall  f1-score   support\n",
            "\n",
            "           0       1.00      1.00      1.00     17962\n",
            "           1       1.00      1.00      1.00      2034\n",
            "           2       1.00      1.00      1.00      1674\n",
            "           3       1.00      1.00      1.00       616\n",
            "           4       1.00      1.00      1.00      1717\n",
            "\n",
            "    accuracy                           1.00     24003\n",
            "   macro avg       1.00      1.00      1.00     24003\n",
            "weighted avg       1.00      1.00      1.00     24003\n",
            "\n"
          ]
        }
      ]
    },
    {
      "cell_type": "markdown",
      "source": [
        "## CNN Model"
      ],
      "metadata": {
        "id": "R7eqYfO-w3Q5"
      }
    },
    {
      "cell_type": "code",
      "source": [
        "import keras\n",
        "from keras.models import Sequential\n",
        "from keras.layers import Conv1D, AvgPool1D, Flatten, Dense, Dropout, Softmax\n",
        "from keras.callbacks import EarlyStopping, ModelCheckpoint, TensorBoard, ReduceLROnPlateau, LearningRateScheduler\n",
        "from tensorflow.keras.optimizers import Adam \n",
        "from keras.utils.np_utils import to_categorical\n",
        "from keras.utils.vis_utils import plot_model\n",
        "from keras import regularizers"
      ],
      "metadata": {
        "id": "_gWYYaHXxK92"
      },
      "execution_count": 75,
      "outputs": []
    },
    {
      "cell_type": "code",
      "source": [
        "train, test = train_test_split(X_dataFrame, test_size=0.20)"
      ],
      "metadata": {
        "id": "Alzfgg35-y-0"
      },
      "execution_count": null,
      "outputs": []
    },
    {
      "cell_type": "code",
      "source": [
        "X_train_CNN = train.iloc[:,:train.shape[1]-1].values\n",
        "X_test_CNN = test.iloc[:,:test.shape[1]-1].values\n",
        "X_train_CNN = X_train_CNN.reshape(len(X_train_CNN), X_train_CNN.shape[1],1)\n",
        "X_test_CNN = X_test_CNN.reshape(len(X_test_CNN), X_test_CNN.shape[1],1)"
      ],
      "metadata": {
        "id": "P461l-NNCWiB"
      },
      "execution_count": null,
      "outputs": []
    },
    {
      "cell_type": "code",
      "source": [
        "z1=train[train.shape[1]-1]\n",
        "z2=test[test.shape[1]-1]\n",
        "y_train_CNN=to_categorical(z1)\n",
        "y_test_CNN=to_categorical(z2)"
      ],
      "metadata": {
        "id": "9vmBj2SVBjtx"
      },
      "execution_count": 70,
      "outputs": []
    },
    {
      "cell_type": "code",
      "source": [
        "model = Sequential()\n",
        "model.add(Conv1D(filters=16, kernel_size=13, padding='same', activation='relu',input_shape=(360, 1)))\n",
        "model.add(AvgPool1D(pool_size=3, strides=2))\n",
        "model.add(Conv1D(filters=32, kernel_size=15, padding='same', activation='relu'))\n",
        "model.add(AvgPool1D(pool_size=3, strides=2))\n",
        "model.add(Conv1D(filters=64, kernel_size=17, padding='same', activation='relu'))\n",
        "model.add(AvgPool1D(pool_size=3, strides=2))\n",
        "model.add(Conv1D(filters=128, kernel_size=19, padding='same', activation='relu'))\n",
        "model.add(AvgPool1D(pool_size=3, strides=2))\n",
        "model.add(Flatten())\n",
        "model.add(Dropout(0.5))\n",
        "model.add(Dense(35,kernel_regularizer=regularizers.l2(0.0001), bias_regularizer=regularizers.l2(0.0001)))\n",
        "model.add(Dense(5,kernel_regularizer=regularizers.l2(0.0001), bias_regularizer=regularizers.l2(0.0001)))\n",
        "model.add(Softmax())"
      ],
      "metadata": {
        "id": "R4mklbEF_f7I"
      },
      "execution_count": 71,
      "outputs": []
    },
    {
      "cell_type": "code",
      "source": [
        "model.summary()"
      ],
      "metadata": {
        "id": "argHnSQeAM1n",
        "colab": {
          "base_uri": "https://localhost:8080/"
        },
        "outputId": "d5e4daaf-e528-4bdb-d1e3-ed13dde8cf59"
      },
      "execution_count": 72,
      "outputs": [
        {
          "output_type": "stream",
          "name": "stdout",
          "text": [
            "Model: \"sequential\"\n",
            "_________________________________________________________________\n",
            " Layer (type)                Output Shape              Param #   \n",
            "=================================================================\n",
            " conv1d (Conv1D)             (None, 360, 16)           224       \n",
            "                                                                 \n",
            " average_pooling1d (AverageP  (None, 179, 16)          0         \n",
            " ooling1D)                                                       \n",
            "                                                                 \n",
            " conv1d_1 (Conv1D)           (None, 179, 32)           7712      \n",
            "                                                                 \n",
            " average_pooling1d_1 (Averag  (None, 89, 32)           0         \n",
            " ePooling1D)                                                     \n",
            "                                                                 \n",
            " conv1d_2 (Conv1D)           (None, 89, 64)            34880     \n",
            "                                                                 \n",
            " average_pooling1d_2 (Averag  (None, 44, 64)           0         \n",
            " ePooling1D)                                                     \n",
            "                                                                 \n",
            " conv1d_3 (Conv1D)           (None, 44, 128)           155776    \n",
            "                                                                 \n",
            " average_pooling1d_3 (Averag  (None, 21, 128)          0         \n",
            " ePooling1D)                                                     \n",
            "                                                                 \n",
            " flatten (Flatten)           (None, 2688)              0         \n",
            "                                                                 \n",
            " dropout (Dropout)           (None, 2688)              0         \n",
            "                                                                 \n",
            " dense (Dense)               (None, 35)                94115     \n",
            "                                                                 \n",
            " dense_1 (Dense)             (None, 5)                 180       \n",
            "                                                                 \n",
            " softmax (Softmax)           (None, 5)                 0         \n",
            "                                                                 \n",
            "=================================================================\n",
            "Total params: 292,887\n",
            "Trainable params: 292,887\n",
            "Non-trainable params: 0\n",
            "_________________________________________________________________\n"
          ]
        }
      ]
    },
    {
      "cell_type": "code",
      "source": [
        "callbacks = [\n",
        "            EarlyStopping(verbose=1),\n",
        "            ReduceLROnPlateau(factor = 0.5, patience = 3, min_lr = 0.01, verbose=1),\n",
        "            TensorBoard( log_dir='./logs', histogram_freq=0, write_graph = True, write_grads=False, write_images=True),\n",
        "            ModelCheckpoint('models/{}-latest.hdf5', monitor='val_loss', save_best_only=False, verbose=1, period=10)\n",
        "            # , lr_decay_callback \n",
        "             ]\n",
        "model.compile(loss='categorical_crossentropy', optimizer=Adam(), metrics=['accuracy'])\n",
        "history = model.fit(X_train_CNN, y_train_CNN, batch_size=36, epochs=60, verbose=1, validation_data=(X_test_CNN, y_test_CNN), callbacks=callbacks)"
      ],
      "metadata": {
        "id": "QLg8yG99ANyU",
        "colab": {
          "base_uri": "https://localhost:8080/"
        },
        "outputId": "31e5f034-0379-4df8-8812-9f845022d731"
      },
      "execution_count": 77,
      "outputs": [
        {
          "output_type": "stream",
          "name": "stderr",
          "text": [
            "WARNING:tensorflow:`period` argument is deprecated. Please use `save_freq` to specify the frequency in number of batches seen.\n"
          ]
        },
        {
          "output_type": "stream",
          "name": "stdout",
          "text": [
            "Epoch 1/60\n",
            "2223/2223 [==============================] - 209s 93ms/step - loss: 0.9039 - accuracy: 0.7494 - val_loss: 0.8916 - val_accuracy: 0.7516 - lr: 0.0010\n",
            "Epoch 2/60\n",
            "2223/2223 [==============================] - 200s 90ms/step - loss: 0.8977 - accuracy: 0.7496 - val_loss: 0.8902 - val_accuracy: 0.7516 - lr: 0.0010\n",
            "Epoch 2: early stopping\n"
          ]
        }
      ]
    },
    {
      "cell_type": "code",
      "source": [
        "# summarize history for loss\n",
        "plt.plot(history.history['loss'])\n",
        "plt.plot(history.history['val_loss'])\n",
        "plt.title('model loss')\n",
        "plt.ylabel('loss')\n",
        "plt.xlabel('epoch')\n",
        "plt.legend(['train', 'test'], loc='upper left')\n",
        "plt.show()"
      ],
      "metadata": {
        "id": "H6UyACoFC6Ch",
        "colab": {
          "base_uri": "https://localhost:8080/",
          "height": 301
        },
        "outputId": "5a0107b1-5145-4171-83e3-91a5266a7a17"
      },
      "execution_count": 79,
      "outputs": [
        {
          "output_type": "display_data",
          "data": {
            "text/plain": [
              "<Figure size 432x288 with 1 Axes>"
            ],
            "image/png": "[encoded data removed]"
          },
          "metadata": {}
        }
      ]
    },
    {
      "cell_type": "code",
      "source": [
        "# summarize history for accuracy\n",
        "plt.plot(history.history['accuracy'])\n",
        "plt.plot(history.history['val_accuracy'])\n",
        "plt.title('model accuracy')\n",
        "plt.ylabel('accuracy')\n",
        "plt.xlabel('epoch')\n",
        "plt.legend(['train', 'test'], loc='upper left')\n",
        "plt.show()"
      ],
      "metadata": {
        "id": "ETVGPSqvDCvN",
        "colab": {
          "base_uri": "https://localhost:8080/",
          "height": 301
        },
        "outputId": "43f7c031-ceab-4e2c-c455-37704cb86dbc"
      },
      "execution_count": 80,
      "outputs": [
        {
          "output_type": "display_data",
          "data": {
            "text/plain": [
              "<Figure size 432x288 with 1 Axes>"
            ],
            "image/png": "[encoded data removed]"
          },
          "metadata": {}
        }
      ]
    },
    {
      "cell_type": "code",
      "source": [
        "score = model.evaluate(X_test_CNN, y_test_CNN)\n",
        "print('Test Loss:', score[0])\n",
        "print('Test accuracy:', score[1])"
      ],
      "metadata": {
        "id": "6j8NWI_GDKEc",
        "colab": {
          "base_uri": "https://localhost:8080/"
        },
        "outputId": "a7f6d91a-8005-4fb2-cbd0-04c9cd6f293e"
      },
      "execution_count": 81,
      "outputs": [
        {
          "output_type": "stream",
          "name": "stdout",
          "text": [
            "626/626 [==============================] - 12s 19ms/step - loss: 0.8902 - accuracy: 0.7516\n",
            "Test Loss: 0.8901904821395874\n",
            "Test accuracy: 0.7515872716903687\n"
          ]
        }
      ]
    },
    {
      "cell_type": "markdown",
      "source": [
        "## SMOTE"
      ],
      "metadata": {
        "id": "rg3bHsAVGMvd"
      }
    },
    {
      "cell_type": "code",
      "source": [
        "import imblearn\n",
        "from imblearn.over_sampling import SMOTE\n",
        "sm = SMOTE(random_state=42)\n",
        "X_res, y_res = sm.fit_resample(X_train_svm, y_train_svm)"
      ],
      "metadata": {
        "id": "BShdoJRtGLgw"
      },
      "execution_count": 84,
      "outputs": []
    },
    {
      "cell_type": "code",
      "source": [
        "# We will use SMOTE for the SVM classifier as it obtained the highest accuracy\n",
        "classifier = SVC(kernel='linear')\n",
        "classifier.fit(X_res, y_res)\n",
        "y_pred_smote = classifier.predict(X_test_svm)"
      ],
      "metadata": {
        "id": "HTiDc3cBMEhd"
      },
      "execution_count": null,
      "outputs": []
    },
    {
      "cell_type": "code",
      "source": [
        "from sklearn.metrics import confusion_matrix\n",
        "cm = confusion_matrix(y_test_svm,y_pred_smote)\n",
        "sns.heatmap(cm/np.sum(cm), annot=True,fmt='.2%', cmap='seagreen')\n",
        "plt.savefig('Confusion_matrix_smote.png')"
      ],
      "metadata": {
        "id": "2lT64XWIK2jj"
      },
      "execution_count": null,
      "outputs": []
    },
    {
      "cell_type": "markdown",
      "source": [
        "## SMOTE USING ADASYN"
      ],
      "metadata": {
        "id": "uo1BG8CGKN0G"
      }
    },
    {
      "cell_type": "code",
      "source": [
        "from imblearn.over_sampling import ADASYN\n",
        "oversample = ADASYN()\n",
        "X_ada, y_ada = oversample.fit_resample(X_train_svm, y_train_svm)"
      ],
      "metadata": {
        "id": "Gd9cjJ6GKb6b"
      },
      "execution_count": null,
      "outputs": []
    },
    {
      "cell_type": "code",
      "source": [
        "classifier = SVC(kernel='linear')\n",
        "classifier.fit(X_ada, y_ada)\n",
        "y_pred_smote = classifier.predict(X_test_svm)"
      ],
      "metadata": {
        "id": "QRzAWGFpLFgc"
      },
      "execution_count": null,
      "outputs": []
    },
    {
      "cell_type": "code",
      "source": [
        "from sklearn.metrics import confusion_matrix\n",
        "cm = confusion_matrix(y_test_svm,y_pred_smote)\n",
        "sns.heatmap(cm/np.sum(cm), annot=True,fmt='.2%', cmap='PuBu_r')\n",
        "plt.savefig('Confusion_matrix_smote.png')"
      ],
      "metadata": {
        "id": "uPmsKovoK_5-"
      },
      "execution_count": null,
      "outputs": []
    }
  ],
  "metadata": {
    "colab": {
      "provenance": [],
      "collapsed_sections": [],
      "authorship_tag": "ABX9TyNIYfmuiLzlxPodMyeVlyoy",
      "include_colab_link": true
    },
    "kernelspec": {
      "display_name": "Python 3",
      "name": "python3"
    },
    "language_info": {
      "name": "python"
    }
  },
  "nbformat": 4,
  "nbformat_minor": 0
}